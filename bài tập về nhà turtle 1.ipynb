{
 "cells": [
  {
   "cell_type": "code",
   "execution_count": 1,
   "id": "e6883781",
   "metadata": {},
   "outputs": [],
   "source": [
    "import turtle\n",
    "v = turtle.Turtle()\n",
    "v.right(45)\n",
    "v.forward(120)\n",
    "v.left(90)\n",
    "v.forward(120)\n",
    "v.left(90)\n",
    "v.forward(120)\n",
    "v.left(90)\n",
    "v.forward(120)\n",
    "v.left(135)\n",
    "v.penup()\n",
    "v.forward(25)\n",
    "v.pendown()\n",
    "v.right(90)\n",
    "v.forward(60)\n",
    "v.left(90)\n",
    "v.forward(120)\n",
    "v.left(90)\n",
    "v.forward(120)\n",
    "v.left(90)\n",
    "v.forward(120)\n",
    "v.left(90)\n",
    "v.forward(60)\n",
    "\n",
    "turtle.done()"
   ]
  },
  {
   "cell_type": "code",
   "execution_count": null,
   "id": "5e2292e6",
   "metadata": {},
   "outputs": [],
   "source": []
  }
 ],
 "metadata": {
  "kernelspec": {
   "display_name": "Python 3 (ipykernel)",
   "language": "python",
   "name": "python3"
  },
  "language_info": {
   "codemirror_mode": {
    "name": "ipython",
    "version": 3
   },
   "file_extension": ".py",
   "mimetype": "text/x-python",
   "name": "python",
   "nbconvert_exporter": "python",
   "pygments_lexer": "ipython3",
   "version": "3.9.12"
  }
 },
 "nbformat": 4,
 "nbformat_minor": 5
}
