{
 "cells": [
  {
   "cell_type": "code",
   "execution_count": 1,
   "id": "f1d2d1c9",
   "metadata": {},
   "outputs": [],
   "source": [
    "import turtle\n",
    "v = turtle.Turtle()\n",
    "v.pensize(3)\n",
    "v.forward(100)\n",
    "v.left(90)\n",
    "v.forward(100)\n",
    "v.left(90)\n",
    "v.forward(100)\n",
    "v.left(90)\n",
    "v.forward(100)\n",
    "v.left(135)\n",
    "v.penup()\n",
    "v.forward(70)\n",
    "v.pendown()\n",
    "v.right(45)\n",
    "v.forward(100)\n",
    "v.left(90)\n",
    "v.forward(100)\n",
    "v.left(90)\n",
    "v.forward(100)\n",
    "v.left(90)\n",
    "v.forward(100)\n",
    "turtle.done()"
   ]
  },
  {
   "cell_type": "code",
   "execution_count": null,
   "id": "5a70b45a",
   "metadata": {},
   "outputs": [],
   "source": []
  }
 ],
 "metadata": {
  "kernelspec": {
   "display_name": "Python 3 (ipykernel)",
   "language": "python",
   "name": "python3"
  },
  "language_info": {
   "codemirror_mode": {
    "name": "ipython",
    "version": 3
   },
   "file_extension": ".py",
   "mimetype": "text/x-python",
   "name": "python",
   "nbconvert_exporter": "python",
   "pygments_lexer": "ipython3",
   "version": "3.9.12"
  }
 },
 "nbformat": 4,
 "nbformat_minor": 5
}
